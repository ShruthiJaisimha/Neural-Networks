{
 "cells": [
  {
   "cell_type": "code",
   "execution_count": 5,
   "metadata": {},
   "outputs": [
    {
     "name": "stdout",
     "output_type": "stream",
     "text": [
      "Collecting package metadata (current_repodata.json): ...working... done\n",
      "Solving environment: ...working... done\n",
      "\n",
      "# All requested packages already installed.\n",
      "\n",
      "\n",
      "C:\\Shruthi\\Udemy Course_Mine\\Deep Learning AZ HandsOn ANN>set \"KERAS_BACKEND=\" \n",
      "\n",
      "C:\\Shruthi\\Udemy Course_Mine\\Deep Learning AZ HandsOn ANN>python C:\\Users\\shrut\\Anaconda3\\etc\\keras\\load_config.py  1>temp.txt \n",
      "\n",
      "C:\\Shruthi\\Udemy Course_Mine\\Deep Learning AZ HandsOn ANN>set /p KERAS_BACKEND= 0<temp.txt \n",
      "\n",
      "C:\\Shruthi\\Udemy Course_Mine\\Deep Learning AZ HandsOn ANN>del temp.txt \n",
      "\n",
      "C:\\Shruthi\\Udemy Course_Mine\\Deep Learning AZ HandsOn ANN>python -c \"import keras\"  1>nul 2>&1 \n",
      "\n",
      "C:\\Shruthi\\Udemy Course_Mine\\Deep Learning AZ HandsOn ANN>if errorlevel 1 (\n",
      "ver  1>nul  \n",
      " set \"KERAS_BACKEND=theano\"  \n",
      " python -c \"import keras\"  1>nul 2>&1 \n",
      ") \n",
      "\n",
      "C:\\Shruthi\\Udemy Course_Mine\\Deep Learning AZ HandsOn ANN>SET DISTUTILS_USE_SDK=1 \n",
      "\n",
      "C:\\Shruthi\\Udemy Course_Mine\\Deep Learning AZ HandsOn ANN>SET MSSdk=1 \n",
      "\n",
      "C:\\Shruthi\\Udemy Course_Mine\\Deep Learning AZ HandsOn ANN>SET platform= \n",
      "\n",
      "C:\\Shruthi\\Udemy Course_Mine\\Deep Learning AZ HandsOn ANN>IF /I [AMD64] == [amd64] set \"platform=true\" \n",
      "\n",
      "C:\\Shruthi\\Udemy Course_Mine\\Deep Learning AZ HandsOn ANN>IF /I [] == [amd64] set \"platform=true\" \n",
      "\n",
      "C:\\Shruthi\\Udemy Course_Mine\\Deep Learning AZ HandsOn ANN>if defined platform (set \"VSREGKEY=HKEY_LOCAL_MACHINE\\SOFTWARE\\Wow6432Node\\Microsoft\\VisualStudio\\14.0\" )  ELSE (set \"VSREGKEY=HKEY_LOCAL_MACHINE\\SOFTWARE\\Microsoft\\VisualStudio\\14.0\" ) \n",
      "\n",
      "C:\\Shruthi\\Udemy Course_Mine\\Deep Learning AZ HandsOn ANN>for /F \"skip=2 tokens=2,*\" %A in ('reg query \"HKEY_LOCAL_MACHINE\\SOFTWARE\\Wow6432Node\\Microsoft\\VisualStudio\\14.0\" /v InstallDir') do SET \"VSINSTALLDIR=%B\" \n",
      "\n",
      "C:\\Shruthi\\Udemy Course_Mine\\Deep Learning AZ HandsOn ANN>if \"\" == \"\" (set \"VSINSTALLDIR=\" ) \n",
      "\n",
      "C:\\Shruthi\\Udemy Course_Mine\\Deep Learning AZ HandsOn ANN>if \"\" == \"\" (\n",
      "ECHO \"WARNING: Did not find VS in registry or in VS140COMNTOOLS env var - your compiler may not work\"  \n",
      " GOTO End \n",
      ") \n",
      "\"WARNING: Did not find VS in registry or in VS140COMNTOOLS env var - your compiler may not work\"\n",
      "\n",
      "Note: you may need to restart the kernel to use updated packages.\n"
     ]
    },
    {
     "name": "stderr",
     "output_type": "stream",
     "text": [
      "ERROR: The system was unable to find the specified registry key or value.\n",
      "The system cannot find the batch label specified - End\n"
     ]
    }
   ],
   "source": [
    "conda install -c conda-forge keras"
   ]
  },
  {
   "cell_type": "code",
   "execution_count": 1,
   "metadata": {},
   "outputs": [
    {
     "name": "stdout",
     "output_type": "stream",
     "text": [
      "Collecting package metadata (current_repodata.json): ...working... done\n",
      "Solving environment: ...working... done\n",
      "\n",
      "# All requested packages already installed.\n",
      "\n",
      "\n",
      "C:\\Shruthi\\Udemy_Course_Mine\\Deep_Learning_AZ_HandsOn_ANN>set \"KERAS_BACKEND=\" \n",
      "\n",
      "C:\\Shruthi\\Udemy_Course_Mine\\Deep_Learning_AZ_HandsOn_ANN>python C:\\Users\\shrut\\Anaconda3\\etc\\keras\\load_config.py  1>temp.txt \n",
      "\n",
      "C:\\Shruthi\\Udemy_Course_Mine\\Deep_Learning_AZ_HandsOn_ANN>set /p KERAS_BACKEND= 0<temp.txt \n",
      "\n",
      "C:\\Shruthi\\Udemy_Course_Mine\\Deep_Learning_AZ_HandsOn_ANN>del temp.txt \n",
      "\n",
      "C:\\Shruthi\\Udemy_Course_Mine\\Deep_Learning_AZ_HandsOn_ANN>python -c \"import keras\"  1>nul 2>&1 \n",
      "\n",
      "C:\\Shruthi\\Udemy_Course_Mine\\Deep_Learning_AZ_HandsOn_ANN>if errorlevel 1 (\n",
      "ver  1>nul  \n",
      " set \"KERAS_BACKEND=theano\"  \n",
      " python -c \"import keras\"  1>nul 2>&1 \n",
      ") \n",
      "\n",
      "C:\\Shruthi\\Udemy_Course_Mine\\Deep_Learning_AZ_HandsOn_ANN>SET DISTUTILS_USE_SDK=1 \n",
      "\n",
      "C:\\Shruthi\\Udemy_Course_Mine\\Deep_Learning_AZ_HandsOn_ANN>SET MSSdk=1 \n",
      "\n",
      "C:\\Shruthi\\Udemy_Course_Mine\\Deep_Learning_AZ_HandsOn_ANN>SET platform= \n",
      "\n",
      "C:\\Shruthi\\Udemy_Course_Mine\\Deep_Learning_AZ_HandsOn_ANN>IF /I [AMD64] == [amd64] set \"platform=true\" \n",
      "\n",
      "C:\\Shruthi\\Udemy_Course_Mine\\Deep_Learning_AZ_HandsOn_ANN>IF /I [] == [amd64] set \"platform=true\" \n",
      "\n",
      "C:\\Shruthi\\Udemy_Course_Mine\\Deep_Learning_AZ_HandsOn_ANN>if defined platform (set \"VSREGKEY=HKEY_LOCAL_MACHINE\\SOFTWARE\\Wow6432Node\\Microsoft\\VisualStudio\\14.0\" )  ELSE (set \"VSREGKEY=HKEY_LOCAL_MACHINE\\SOFTWARE\\Microsoft\\VisualStudio\\14.0\" ) \n",
      "\n",
      "C:\\Shruthi\\Udemy_Course_Mine\\Deep_Learning_AZ_HandsOn_ANN>for /F \"skip=2 tokens=2,*\" %A in ('reg query \"HKEY_LOCAL_MACHINE\\SOFTWARE\\Wow6432Node\\Microsoft\\VisualStudio\\14.0\" /v InstallDir') do SET \"VSINSTALLDIR=%B\" \n",
      "\n",
      "C:\\Shruthi\\Udemy_Course_Mine\\Deep_Learning_AZ_HandsOn_ANN>if \"\" == \"\" (set \"VSINSTALLDIR=\" ) \n",
      "\n",
      "C:\\Shruthi\\Udemy_Course_Mine\\Deep_Learning_AZ_HandsOn_ANN>if \"\" == \"\" (\n",
      "ECHO \"WARNING: Did not find VS in registry or in VS140COMNTOOLS env var - your compiler may not work\"  \n",
      " GOTO End \n",
      ") \n",
      "\"WARNING: Did not find VS in registry or in VS140COMNTOOLS env var - your compiler may not work\"\n",
      "\n",
      "Note: you may need to restart the kernel to use updated packages.\n"
     ]
    },
    {
     "name": "stderr",
     "output_type": "stream",
     "text": [
      "ERROR: The system was unable to find the specified registry key or value.\n",
      "The system cannot find the batch label specified - End\n"
     ]
    }
   ],
   "source": [
    "conda install -c conda-forge keras"
   ]
  },
  {
   "cell_type": "code",
   "execution_count": 2,
   "metadata": {},
   "outputs": [
    {
     "name": "stdout",
     "output_type": "stream",
     "text": [
      "\n",
      "Note: you may need to restart the kernel to use updated packages.\n"
     ]
    },
    {
     "name": "stderr",
     "output_type": "stream",
     "text": [
      "Warning: 'conda-forge' already in 'channels' list, moving to the top\n"
     ]
    }
   ],
   "source": [
    "conda config --add channels conda-forge\n"
   ]
  },
  {
   "cell_type": "code",
   "execution_count": 4,
   "metadata": {},
   "outputs": [
    {
     "name": "stdout",
     "output_type": "stream",
     "text": [
      "Collecting package metadata (current_repodata.json): ...working... done\n",
      "Solving environment: ...working... done\n",
      "\n",
      "# All requested packages already installed.\n",
      "\n",
      "\n",
      "C:\\Shruthi\\Udemy_Course_Mine\\Deep_Learning_AZ_HandsOn_ANN>set \"KERAS_BACKEND=\" \n",
      "\n",
      "C:\\Shruthi\\Udemy_Course_Mine\\Deep_Learning_AZ_HandsOn_ANN>python C:\\Users\\shrut\\Anaconda3\\etc\\keras\\load_config.py  1>temp.txt \n",
      "\n",
      "C:\\Shruthi\\Udemy_Course_Mine\\Deep_Learning_AZ_HandsOn_ANN>set /p KERAS_BACKEND= 0<temp.txt \n",
      "\n",
      "C:\\Shruthi\\Udemy_Course_Mine\\Deep_Learning_AZ_HandsOn_ANN>del temp.txt \n",
      "\n",
      "C:\\Shruthi\\Udemy_Course_Mine\\Deep_Learning_AZ_HandsOn_ANN>python -c \"import keras\"  1>nul 2>&1 \n",
      "\n",
      "C:\\Shruthi\\Udemy_Course_Mine\\Deep_Learning_AZ_HandsOn_ANN>if errorlevel 1 (\n",
      "ver  1>nul  \n",
      " set \"KERAS_BACKEND=theano\"  \n",
      " python -c \"import keras\"  1>nul 2>&1 \n",
      ") \n",
      "\n",
      "C:\\Shruthi\\Udemy_Course_Mine\\Deep_Learning_AZ_HandsOn_ANN>SET DISTUTILS_USE_SDK=1 \n",
      "\n",
      "C:\\Shruthi\\Udemy_Course_Mine\\Deep_Learning_AZ_HandsOn_ANN>SET MSSdk=1 \n",
      "\n",
      "C:\\Shruthi\\Udemy_Course_Mine\\Deep_Learning_AZ_HandsOn_ANN>SET platform= \n",
      "\n",
      "C:\\Shruthi\\Udemy_Course_Mine\\Deep_Learning_AZ_HandsOn_ANN>IF /I [AMD64] == [amd64] set \"platform=true\" \n",
      "\n",
      "C:\\Shruthi\\Udemy_Course_Mine\\Deep_Learning_AZ_HandsOn_ANN>IF /I [] == [amd64] set \"platform=true\" \n",
      "\n",
      "C:\\Shruthi\\Udemy_Course_Mine\\Deep_Learning_AZ_HandsOn_ANN>if defined platform (set \"VSREGKEY=HKEY_LOCAL_MACHINE\\SOFTWARE\\Wow6432Node\\Microsoft\\VisualStudio\\14.0\" )  ELSE (set \"VSREGKEY=HKEY_LOCAL_MACHINE\\SOFTWARE\\Microsoft\\VisualStudio\\14.0\" ) \n",
      "\n",
      "C:\\Shruthi\\Udemy_Course_Mine\\Deep_Learning_AZ_HandsOn_ANN>for /F \"skip=2 tokens=2,*\" %A in ('reg query \"HKEY_LOCAL_MACHINE\\SOFTWARE\\Wow6432Node\\Microsoft\\VisualStudio\\14.0\" /v InstallDir') do SET \"VSINSTALLDIR=%B\" \n",
      "\n",
      "C:\\Shruthi\\Udemy_Course_Mine\\Deep_Learning_AZ_HandsOn_ANN>if \"\" == \"\" (set \"VSINSTALLDIR=\" ) \n",
      "\n",
      "C:\\Shruthi\\Udemy_Course_Mine\\Deep_Learning_AZ_HandsOn_ANN>if \"\" == \"\" (\n",
      "ECHO \"WARNING: Did not find VS in registry or in VS140COMNTOOLS env var - your compiler may not work\"  \n",
      " GOTO End \n",
      ") \n",
      "\"WARNING: Did not find VS in registry or in VS140COMNTOOLS env var - your compiler may not work\"\n",
      "\n",
      "Note: you may need to restart the kernel to use updated packages.\n"
     ]
    },
    {
     "name": "stderr",
     "output_type": "stream",
     "text": [
      "ERROR: The system was unable to find the specified registry key or value.\n",
      "The system cannot find the batch label specified - End\n"
     ]
    }
   ],
   "source": [
    "conda install keras"
   ]
  },
  {
   "cell_type": "code",
   "execution_count": 4,
   "metadata": {},
   "outputs": [
    {
     "name": "stdout",
     "output_type": "stream",
     "text": [
      "Collecting tensorflow\n",
      "  Using cached tensorflow-2.1.0-cp37-cp37m-win_amd64.whl (355.8 MB)\n",
      "Requirement already satisfied: scipy==1.4.1; python_version >= \"3\" in c:\\anaconda\\lib\\site-packages (from tensorflow) (1.4.1)\n",
      "Requirement already satisfied: six>=1.12.0 in c:\\anaconda\\lib\\site-packages (from tensorflow) (1.14.0)\n",
      "Collecting tensorflow-estimator<2.2.0,>=2.1.0rc0\n",
      "  Using cached tensorflow_estimator-2.1.0-py2.py3-none-any.whl (448 kB)\n",
      "Requirement already satisfied: wheel>=0.26; python_version >= \"3\" in c:\\anaconda\\lib\\site-packages (from tensorflow) (0.34.2)\n",
      "Collecting astor>=0.6.0\n",
      "  Using cached astor-0.8.1-py2.py3-none-any.whl (27 kB)\n",
      "Collecting tensorboard<2.2.0,>=2.1.0\n",
      "  Downloading tensorboard-2.1.1-py3-none-any.whl (3.8 MB)\n",
      "Requirement already satisfied: keras-preprocessing>=1.1.0 in c:\\anaconda\\lib\\site-packages (from tensorflow) (1.1.0)\n",
      "Collecting protobuf>=3.8.0\n",
      "  Downloading protobuf-3.11.3-cp37-cp37m-win_amd64.whl (1.0 MB)\n",
      "Collecting opt-einsum>=2.3.2\n",
      "  Using cached opt_einsum-3.2.0-py3-none-any.whl (63 kB)\n",
      "Collecting google-pasta>=0.1.6\n",
      "  Downloading google_pasta-0.2.0-py3-none-any.whl (57 kB)\n",
      "Requirement already satisfied: numpy<2.0,>=1.16.0 in c:\\anaconda\\lib\\site-packages (from tensorflow) (1.18.1)\n",
      "Collecting grpcio>=1.8.6\n",
      "  Downloading grpcio-1.28.1-cp37-cp37m-win_amd64.whl (2.0 MB)\n",
      "Processing c:\\users\\shrut\\appdata\\local\\pip\\cache\\wheels\\7c\\06\\54\\bc84598ba1daf8f970247f550b175aaaee85f68b4b0c5ab2c6\\termcolor-1.1.0-cp37-none-any.whl\n",
      "Processing c:\\users\\shrut\\appdata\\local\\pip\\cache\\wheels\\8e\\28\\49\\fad4e7f0b9a1227708cbbee4487ac8558a7334849cb81c813d\\absl_py-0.9.0-cp37-none-any.whl\n",
      "Requirement already satisfied: wrapt>=1.11.1 in c:\\anaconda\\lib\\site-packages (from tensorflow) (1.11.2)\n",
      "Processing c:\\users\\shrut\\appdata\\local\\pip\\cache\\wheels\\5c\\2e\\7e\\a1d4d4fcebe6c381f378ce7743a3ced3699feb89bcfbdadadd\\gast-0.2.2-cp37-none-any.whl\n",
      "Requirement already satisfied: keras-applications>=1.0.8 in c:\\anaconda\\lib\\site-packages (from tensorflow) (1.0.8)\n",
      "Requirement already satisfied: werkzeug>=0.11.15 in c:\\anaconda\\lib\\site-packages (from tensorboard<2.2.0,>=2.1.0->tensorflow) (1.0.0)\n",
      "Collecting google-auth-oauthlib<0.5,>=0.4.1\n",
      "  Using cached google_auth_oauthlib-0.4.1-py2.py3-none-any.whl (18 kB)\n",
      "Collecting markdown>=2.6.8\n",
      "  Downloading Markdown-3.2.1-py2.py3-none-any.whl (88 kB)\n",
      "Requirement already satisfied: setuptools>=41.0.0 in c:\\anaconda\\lib\\site-packages (from tensorboard<2.2.0,>=2.1.0->tensorflow) (46.1.3)\n",
      "Collecting google-auth<2,>=1.6.3\n",
      "  Downloading google_auth-1.13.1-py2.py3-none-any.whl (87 kB)\n",
      "Requirement already satisfied: requests<3,>=2.21.0 in c:\\anaconda\\lib\\site-packages (from tensorboard<2.2.0,>=2.1.0->tensorflow) (2.22.0)\n",
      "Requirement already satisfied: h5py in c:\\anaconda\\lib\\site-packages (from keras-applications>=1.0.8->tensorflow) (2.10.0)\n",
      "Collecting requests-oauthlib>=0.7.0\n",
      "  Using cached requests_oauthlib-1.3.0-py2.py3-none-any.whl (23 kB)\n",
      "Collecting cachetools<5.0,>=2.0.0\n",
      "  Using cached cachetools-4.0.0-py3-none-any.whl (10 kB)\n",
      "Collecting rsa<4.1,>=3.1.4\n",
      "  Using cached rsa-4.0-py2.py3-none-any.whl (38 kB)\n",
      "Collecting pyasn1-modules>=0.2.1\n",
      "  Using cached pyasn1_modules-0.2.8-py2.py3-none-any.whl (155 kB)\n",
      "Requirement already satisfied: idna<2.9,>=2.5 in c:\\anaconda\\lib\\site-packages (from requests<3,>=2.21.0->tensorboard<2.2.0,>=2.1.0->tensorflow) (2.8)\n",
      "Requirement already satisfied: chardet<3.1.0,>=3.0.2 in c:\\anaconda\\lib\\site-packages (from requests<3,>=2.21.0->tensorboard<2.2.0,>=2.1.0->tensorflow) (3.0.4)\n",
      "Requirement already satisfied: urllib3!=1.25.0,!=1.25.1,<1.26,>=1.21.1 in c:\\anaconda\\lib\\site-packages (from requests<3,>=2.21.0->tensorboard<2.2.0,>=2.1.0->tensorflow) (1.25.8)\n",
      "Requirement already satisfied: certifi>=2017.4.17 in c:\\anaconda\\lib\\site-packages (from requests<3,>=2.21.0->tensorboard<2.2.0,>=2.1.0->tensorflow) (2019.11.28)\n",
      "Collecting oauthlib>=3.0.0\n",
      "  Using cached oauthlib-3.1.0-py2.py3-none-any.whl (147 kB)\n",
      "Collecting pyasn1>=0.1.3\n",
      "  Using cached pyasn1-0.4.8-py2.py3-none-any.whl (77 kB)\n",
      "Installing collected packages: tensorflow-estimator, astor, oauthlib, requests-oauthlib, cachetools, pyasn1, rsa, pyasn1-modules, google-auth, google-auth-oauthlib, markdown, absl-py, grpcio, protobuf, tensorboard, opt-einsum, google-pasta, termcolor, gast, tensorflow\n",
      "Successfully installed absl-py-0.9.0 astor-0.8.1 cachetools-4.0.0 gast-0.2.2 google-auth-1.13.1 google-auth-oauthlib-0.4.1 google-pasta-0.2.0 grpcio-1.28.1 markdown-3.2.1 oauthlib-3.1.0 opt-einsum-3.2.0 protobuf-3.11.3 pyasn1-0.4.8 pyasn1-modules-0.2.8 requests-oauthlib-1.3.0 rsa-4.0 tensorboard-2.1.1 tensorflow-2.1.0 tensorflow-estimator-2.1.0 termcolor-1.1.0\n",
      "Note: you may need to restart the kernel to use updated packages.\n"
     ]
    }
   ],
   "source": [
    "pip install tensorflow"
   ]
  },
  {
   "cell_type": "code",
   "execution_count": 1,
   "metadata": {},
   "outputs": [
    {
     "name": "stdout",
     "output_type": "stream",
     "text": [
      "Collecting keras\n",
      "  Downloading Keras-2.3.1-py2.py3-none-any.whl (377 kB)\n",
      "Collecting as\n",
      "  Using cached as-0.1-py3-none-any.whl (2.2 kB)\n",
      "Requirement already satisfied: h5py in c:\\anaconda\\lib\\site-packages (from keras) (2.10.0)\n",
      "Requirement already satisfied: scipy>=0.14 in c:\\anaconda\\lib\\site-packages (from keras) (1.4.1)\n",
      "Requirement already satisfied: numpy>=1.9.1 in c:\\anaconda\\lib\\site-packages (from keras) (1.18.1)\n",
      "Requirement already satisfied: pyyaml in c:\\anaconda\\lib\\site-packages (from keras) (5.3)\n",
      "Requirement already satisfied: six>=1.9.0 in c:\\anaconda\\lib\\site-packages (from keras) (1.14.0)\n",
      "Collecting keras-preprocessing>=1.0.5\n",
      "  Using cached Keras_Preprocessing-1.1.0-py2.py3-none-any.whl (41 kB)\n",
      "Collecting keras-applications>=1.0.6\n",
      "  Using cached Keras_Applications-1.0.8-py3-none-any.whl (50 kB)\n",
      "Installing collected packages: keras-preprocessing, keras-applications, keras, as\n",
      "Successfully installed as-0.1 keras-2.3.1 keras-applications-1.0.8 keras-preprocessing-1.1.0\n",
      "Note: you may need to restart the kernel to use updated packages.\n"
     ]
    }
   ],
   "source": [
    "pip install keras as keras"
   ]
  },
  {
   "cell_type": "code",
   "execution_count": 10,
   "metadata": {},
   "outputs": [
    {
     "name": "stdout",
     "output_type": "stream",
     "text": [
      "Collecting package metadata (current_repodata.json): ...working... done\n",
      "Solving environment: ...working... done\n",
      "\n",
      "# All requested packages already installed.\n",
      "\n",
      "\n",
      "C:\\Shruthi\\Udemy_Course_Mine\\Deep_Learning_AZ_HandsOn_ANN>set \"KERAS_BACKEND=\" \n",
      "\n",
      "C:\\Shruthi\\Udemy_Course_Mine\\Deep_Learning_AZ_HandsOn_ANN>python C:\\Users\\shrut\\Anaconda3\\etc\\keras\\load_config.py  1>temp.txt \n",
      "Note: you may need to restart the kernel to use updated packages.\n",
      "\n",
      "C:\\Shruthi\\Udemy_Course_Mine\\Deep_Learning_AZ_HandsOn_ANN>set /p KERAS_BACKEND= 0<temp.txt \n",
      "\n",
      "\n"
     ]
    },
    {
     "name": "stderr",
     "output_type": "stream",
     "text": [
      "ERROR: The system was unable to find the specified registry key or value.\n",
      "The system cannot find the batch label specified - End\n"
     ]
    },
    {
     "name": "stdout",
     "output_type": "stream",
     "text": [
      "C:\\Shruthi\\Udemy_Course_Mine\\Deep_Learning_AZ_HandsOn_ANN>del temp.txt \n",
      "\n",
      "C:\\Shruthi\\Udemy_Course_Mine\\Deep_Learning_AZ_HandsOn_ANN>python -c \"import keras\"  1>nul 2>&1 \n",
      "\n",
      "C:\\Shruthi\\Udemy_Course_Mine\\Deep_Learning_AZ_HandsOn_ANN>if errorlevel 1 (\n",
      "ver  1>nul  \n",
      " set \"KERAS_BACKEND=theano\"  \n",
      " python -c \"import keras\"  1>nul 2>&1 \n",
      ") \n",
      "\n",
      "C:\\Shruthi\\Udemy_Course_Mine\\Deep_Learning_AZ_HandsOn_ANN>SET DISTUTILS_USE_SDK=1 \n",
      "\n",
      "C:\\Shruthi\\Udemy_Course_Mine\\Deep_Learning_AZ_HandsOn_ANN>SET MSSdk=1 \n",
      "\n",
      "C:\\Shruthi\\Udemy_Course_Mine\\Deep_Learning_AZ_HandsOn_ANN>SET platform= \n",
      "\n",
      "C:\\Shruthi\\Udemy_Course_Mine\\Deep_Learning_AZ_HandsOn_ANN>IF /I [AMD64] == [amd64] set \"platform=true\" \n",
      "\n",
      "C:\\Shruthi\\Udemy_Course_Mine\\Deep_Learning_AZ_HandsOn_ANN>IF /I [] == [amd64] set \"platform=true\" \n",
      "\n",
      "C:\\Shruthi\\Udemy_Course_Mine\\Deep_Learning_AZ_HandsOn_ANN>if defined platform (set \"VSREGKEY=HKEY_LOCAL_MACHINE\\SOFTWARE\\Wow6432Node\\Microsoft\\VisualStudio\\14.0\" )  ELSE (set \"VSREGKEY=HKEY_LOCAL_MACHINE\\SOFTWARE\\Microsoft\\VisualStudio\\14.0\" ) \n",
      "\n",
      "C:\\Shruthi\\Udemy_Course_Mine\\Deep_Learning_AZ_HandsOn_ANN>for /F \"skip=2 tokens=2,*\" %A in ('reg query \"HKEY_LOCAL_MACHINE\\SOFTWARE\\Wow6432Node\\Microsoft\\VisualStudio\\14.0\" /v InstallDir') do SET \"VSINSTALLDIR=%B\" \n",
      "\n",
      "C:\\Shruthi\\Udemy_Course_Mine\\Deep_Learning_AZ_HandsOn_ANN>if \"\" == \"\" (set \"VSINSTALLDIR=\" ) \n",
      "\n",
      "C:\\Shruthi\\Udemy_Course_Mine\\Deep_Learning_AZ_HandsOn_ANN>if \"\" == \"\" (\n",
      "ECHO \"WARNING: Did not find VS in registry or in VS140COMNTOOLS env var - your compiler may not work\"  \n",
      " GOTO End \n",
      ") \n",
      "\"WARNING: Did not find VS in registry or in VS140COMNTOOLS env var - your compiler may not work\"\n"
     ]
    }
   ],
   "source": [
    "conda install -c anacoda keras"
   ]
  },
  {
   "cell_type": "code",
   "execution_count": 11,
   "metadata": {},
   "outputs": [
    {
     "name": "stdout",
     "output_type": "stream",
     "text": [
      "Collecting package metadata (current_repodata.json): ...working... done\n",
      "Note: you may need to restart the kernel to use updated packages.\n"
     ]
    },
    {
     "name": "stderr",
     "output_type": "stream",
     "text": [
      "ERROR: The system was unable to find the specified registry key or value.\n",
      "The system cannot find the batch label specified - End\n"
     ]
    },
    {
     "name": "stdout",
     "output_type": "stream",
     "text": [
      "\n",
      "Solving environment: ...working... done\n",
      "\n",
      "# All requested packages already installed.\n",
      "\n",
      "\n",
      "C:\\Shruthi\\Udemy_Course_Mine\\Deep_Learning_AZ_HandsOn_ANN>set \"KERAS_BACKEND=\" \n",
      "\n",
      "C:\\Shruthi\\Udemy_Course_Mine\\Deep_Learning_AZ_HandsOn_ANN>python C:\\Users\\shrut\\Anaconda3\\etc\\keras\\load_config.py  1>temp.txt \n",
      "\n",
      "C:\\Shruthi\\Udemy_Course_Mine\\Deep_Learning_AZ_HandsOn_ANN>set /p KERAS_BACKEND= 0<temp.txt \n",
      "\n",
      "C:\\Shruthi\\Udemy_Course_Mine\\Deep_Learning_AZ_HandsOn_ANN>del temp.txt \n",
      "\n",
      "C:\\Shruthi\\Udemy_Course_Mine\\Deep_Learning_AZ_HandsOn_ANN>python -c \"import keras\"  1>nul 2>&1 \n",
      "\n",
      "C:\\Shruthi\\Udemy_Course_Mine\\Deep_Learning_AZ_HandsOn_ANN>if errorlevel 1 (\n",
      "ver  1>nul  \n",
      " set \"KERAS_BACKEND=theano\"  \n",
      " python -c \"import keras\"  1>nul 2>&1 \n",
      ") \n",
      "\n",
      "C:\\Shruthi\\Udemy_Course_Mine\\Deep_Learning_AZ_HandsOn_ANN>SET DISTUTILS_USE_SDK=1 \n",
      "\n",
      "C:\\Shruthi\\Udemy_Course_Mine\\Deep_Learning_AZ_HandsOn_ANN>SET MSSdk=1 \n",
      "\n",
      "C:\\Shruthi\\Udemy_Course_Mine\\Deep_Learning_AZ_HandsOn_ANN>SET platform= \n",
      "\n",
      "C:\\Shruthi\\Udemy_Course_Mine\\Deep_Learning_AZ_HandsOn_ANN>IF /I [AMD64] == [amd64] set \"platform=true\" \n",
      "\n",
      "C:\\Shruthi\\Udemy_Course_Mine\\Deep_Learning_AZ_HandsOn_ANN>IF /I [] == [amd64] set \"platform=true\" \n",
      "\n",
      "C:\\Shruthi\\Udemy_Course_Mine\\Deep_Learning_AZ_HandsOn_ANN>if defined platform (set \"VSREGKEY=HKEY_LOCAL_MACHINE\\SOFTWARE\\Wow6432Node\\Microsoft\\VisualStudio\\14.0\" )  ELSE (set \"VSREGKEY=HKEY_LOCAL_MACHINE\\SOFTWARE\\Microsoft\\VisualStudio\\14.0\" ) \n",
      "\n",
      "C:\\Shruthi\\Udemy_Course_Mine\\Deep_Learning_AZ_HandsOn_ANN>for /F \"skip=2 tokens=2,*\" %A in ('reg query \"HKEY_LOCAL_MACHINE\\SOFTWARE\\Wow6432Node\\Microsoft\\VisualStudio\\14.0\" /v InstallDir') do SET \"VSINSTALLDIR=%B\" \n",
      "\n",
      "C:\\Shruthi\\Udemy_Course_Mine\\Deep_Learning_AZ_HandsOn_ANN>if \"\" == \"\" (set \"VSINSTALLDIR=\" ) \n",
      "\n",
      "C:\\Shruthi\\Udemy_Course_Mine\\Deep_Learning_AZ_HandsOn_ANN>if \"\" == \"\" (\n",
      "ECHO \"WARNING: Did not find VS in registry or in VS140COMNTOOLS env var - your compiler may not work\"  \n",
      " GOTO End \n",
      ") \n",
      "\"WARNING: Did not find VS in registry or in VS140COMNTOOLS env var - your compiler may not work\"\n"
     ]
    }
   ],
   "source": [
    "conda install -c anacoda keras"
   ]
  },
  {
   "cell_type": "code",
   "execution_count": null,
   "metadata": {},
   "outputs": [],
   "source": [
    "conda install -c conda-forge keras"
   ]
  },
  {
   "cell_type": "code",
   "execution_count": 42,
   "metadata": {},
   "outputs": [
    {
     "name": "stdout",
     "output_type": "stream",
     "text": [
      "C:\\Users\\shrut\\AppData\\Roaming\\Microsoft\\Windows\\Start Menu\\Programs\\Anaconda3 (64-bit)\n"
     ]
    }
   ],
   "source": [
    "cd C:\\Users\\shrut\\AppData\\Roaming\\Microsoft\\Windows\\Start Menu\\Programs\\Anaconda3 (64-bit)"
   ]
  },
  {
   "cell_type": "code",
   "execution_count": 43,
   "metadata": {},
   "outputs": [
    {
     "name": "stdout",
     "output_type": "stream",
     "text": [
      "[WinError 2] The system cannot find the file specified: 'C:\\\\Users\\\\shrut\\\\Anaconda3\\\\lib\\\\site-packages\\\\keras'\n",
      "C:\\Users\\shrut\\AppData\\Roaming\\Microsoft\\Windows\\Start Menu\\Programs\\Anaconda3 (64-bit)\n"
     ]
    }
   ],
   "source": [
    "cd C:\\Users\\shrut\\Anaconda3\\lib\\site-packages\\keras"
   ]
  },
  {
   "cell_type": "code",
   "execution_count": 44,
   "metadata": {},
   "outputs": [
    {
     "ename": "SyntaxError",
     "evalue": "invalid syntax (<ipython-input-44-a8278a140ae6>, line 1)",
     "output_type": "error",
     "traceback": [
      "\u001b[1;36m  File \u001b[1;32m\"<ipython-input-44-a8278a140ae6>\"\u001b[1;36m, line \u001b[1;32m1\u001b[0m\n\u001b[1;33m    pip install keras as keras\u001b[0m\n\u001b[1;37m              ^\u001b[0m\n\u001b[1;31mSyntaxError\u001b[0m\u001b[1;31m:\u001b[0m invalid syntax\n"
     ]
    }
   ],
   "source": [
    "pip install keras as keras\n",
    "pip install tensorflow"
   ]
  },
  {
   "cell_type": "code",
   "execution_count": 45,
   "metadata": {},
   "outputs": [],
   "source": [
    "from keras.models import Sequential"
   ]
  },
  {
   "cell_type": "code",
   "execution_count": 46,
   "metadata": {},
   "outputs": [
    {
     "name": "stdout",
     "output_type": "stream",
     "text": [
      "C:\\Shruthi\\Udemy_Course_Mine\\Deep_Learning_AZ_HandsOn_ANN\\Deep_Learning_A_Z\\V1 - SDL\\Part 1 - ANN\\S2 - P1 - ANN\n"
     ]
    }
   ],
   "source": [
    "cd C:\\Shruthi\\Udemy_Course_Mine\\Deep_Learning_AZ_HandsOn_ANN\\Deep_Learning_A_Z\\V1 - SDL\\Part 1 - ANN\\S2 - P1 - ANN\n"
   ]
  },
  {
   "cell_type": "markdown",
   "metadata": {},
   "source": [
    "Building ANN"
   ]
  },
  {
   "cell_type": "code",
   "execution_count": 47,
   "metadata": {},
   "outputs": [
    {
     "name": "stdout",
     "output_type": "stream",
     "text": [
      "[[1.0 0.0 0.0 ... 1 1 101348.88]\n",
      " [1.0 0.0 0.0 ... 1 0 113931.57]\n",
      " [1.0 0.0 0.0 ... 0 0 93826.63]\n",
      " ...\n",
      " [0.0 0.0 1.0 ... 1 1 1914.41]\n",
      " [0.0 0.0 1.0 ... 1 1 179436.6]\n",
      " [0.0 0.0 1.0 ... 1 0 195192.4]]\n",
      "[[0.0 0.0 619 ... 1 1 101348.88]\n",
      " [0.0 0.0 502 ... 1 0 113931.57]\n",
      " [0.0 0.0 699 ... 0 0 93826.63]\n",
      " ...\n",
      " [0.0 1.0 606 ... 1 1 1914.41]\n",
      " [0.0 1.0 841 ... 1 1 179436.6]\n",
      " [0.0 1.0 726 ... 1 0 195192.4]]\n",
      "[[1.0 0.0 782 ... 1 0 182960.46]\n",
      " [0.0 1.0 741 ... 1 1 13018.96]\n",
      " [0.0 0.0 704 ... 0 1 179964.55]\n",
      " ...\n",
      " [0.0 0.0 652 ... 0 1 110421.31]\n",
      " [0.0 1.0 593 ... 1 1 5194.95]\n",
      " [0.0 0.0 556 ... 0 1 177670.57]]\n",
      "[[ 1.72916886 -0.57234647  1.37217993 ...  0.6517324  -1.03771056\n",
      "   1.43049203]\n",
      " [-0.57831252  1.74719344  0.94790427 ...  0.6517324   0.96365985\n",
      "  -1.52114764]\n",
      " [-0.57831252 -0.57234647  0.56502135 ... -1.53437208  0.96365985\n",
      "   1.37845738]\n",
      " ...\n",
      " [-0.57831252 -0.57234647  0.02691563 ... -1.53437208  0.96365985\n",
      "   0.17059123]\n",
      " [-0.57831252  1.74719344 -0.58362739 ...  0.6517324   0.96365985\n",
      "  -1.65703945]\n",
      " [-0.57831252 -0.57234647 -0.96651031 ... -1.53437208  0.96365985\n",
      "   1.33861424]]\n"
     ]
    }
   ],
   "source": [
    "## Data PreProcessing\n",
    "\n",
    "#importing libraries\n",
    "import numpy as np\n",
    "import matplotlib.pyplot as plt\n",
    "import pandas as pd\n",
    "\n",
    "#importing datasets\n",
    "dataset = pd.read_csv('Churn_Modelling.csv')\n",
    "x = dataset.iloc[:,3:13].values\n",
    "y = dataset.iloc[:,13].values\n",
    "\n",
    "#Encoding the dataset\n",
    "from sklearn.preprocessing import LabelEncoder, OneHotEncoder\n",
    "from sklearn.compose import ColumnTransformer\n",
    "labelencoder_x_1 = LabelEncoder()\n",
    "x[:, 1] = labelencoder_x_1.fit_transform(x[:, 1])\n",
    "\n",
    "labelencoder_x_2 = LabelEncoder()\n",
    "x[:, 2] = labelencoder_x_2.fit_transform(x[:, 2])\n",
    "\n",
    "\n",
    "ct = ColumnTransformer(\n",
    "    [('one_hot_encoder', OneHotEncoder(categories='auto'), [1])],   # The column numbers to be transformed (here is [0] but can be [0, 1, 3])\n",
    "    remainder='passthrough'                                         # Leave the rest of the columns untouched\n",
    ")\n",
    "\n",
    "x = ct.fit_transform(x)\n",
    "print(x)\n",
    "x = x[:,1:]\n",
    "print(x)\n",
    "\n",
    "#Splitting the dataset into test and train sets\n",
    "from sklearn.model_selection import train_test_split\n",
    "x_train, x_test, y_train, y_test = train_test_split(x, y, test_size = 0.2, random_state = 0)\n",
    "print(x_train)\n",
    "#Feature scaling\n",
    "from sklearn.preprocessing import StandardScaler\n",
    "sc_x = StandardScaler()\n",
    "x_train = sc_x.fit_transform(x_train)\n",
    "x_test = sc_x.transform(x_test)\n",
    "print(x_train)"
   ]
  },
  {
   "cell_type": "code",
   "execution_count": 48,
   "metadata": {},
   "outputs": [
    {
     "name": "stdout",
     "output_type": "stream",
     "text": [
      "Epoch 1/10\n",
      "8000/8000 [==============================] - 8s 992us/step - loss: 0.4819 - accuracy: 0.7956\n",
      "Epoch 2/10\n",
      "8000/8000 [==============================] - 8s 944us/step - loss: 0.4291 - accuracy: 0.7956\n",
      "Epoch 3/10\n",
      "8000/8000 [==============================] - 7s 880us/step - loss: 0.4233 - accuracy: 0.8014\n",
      "Epoch 4/10\n",
      "8000/8000 [==============================] - 3s 350us/step - loss: 0.4202 - accuracy: 0.8224\n",
      "Epoch 5/10\n",
      "8000/8000 [==============================] - 2s 270us/step - loss: 0.4171 - accuracy: 0.8270\n",
      "Epoch 6/10\n",
      "8000/8000 [==============================] - 2s 236us/step - loss: 0.4157 - accuracy: 0.8299\n",
      "Epoch 7/10\n",
      "8000/8000 [==============================] - 9s 1ms/step - loss: 0.4144 - accuracy: 0.8281: 2s - loss: 0.4111 - accuracy - ETA: 1s - loss: 0.4108 - accuracy: 0.83 - ETA: 1s - loss: 0.4107 - accuracy: 0. - ETA: 1s - los - ETA: 0s - loss: 0.4137 - ac\n",
      "Epoch 8/10\n",
      "8000/8000 [==============================] - 11s 1ms/step - loss: 0.4127 - accuracy: 0.8303\n",
      "Epoch 9/10\n",
      "8000/8000 [==============================] - 10s 1ms/step - loss: 0.4117 - accuracy: 0.8311\n",
      "Epoch 10/10\n",
      "8000/8000 [==============================] - 11s 1ms/step - loss: 0.4105 - accuracy: 0.8316 0s - loss: 0 - ETA: 0s - loss: 0.4116 - \n",
      "[[1569   29]\n",
      " [ 293  109]]\n"
     ]
    }
   ],
   "source": [
    "## Building ANN\n",
    "\n",
    "## Importing the Keras Libraries and packages\n",
    "import keras\n",
    "import tensorflow as tf\n",
    "from keras.models import Sequential\n",
    "from keras.layers import Dense\n",
    "\n",
    "## Initializing the ANN\n",
    "classifier = Sequential()\n",
    "\n",
    "## Adding the input layer and the first hidden layer\n",
    "classifier.add(Dense(units = 6, kernel_initializer = 'uniform', activation = 'relu', input_dim = 11))\n",
    "classifier.add(Dense(units = 6, kernel_initializer = 'uniform', activation = 'relu'))\n",
    "classifier.add(Dense(units = 1, kernel_initializer = 'uniform', activation = 'sigmoid'))\n",
    "\n",
    "## Compiling ANN\n",
    "classifier.compile(optimizer='adam', loss = 'binary_crossentropy', metrics= ['accuracy'])\n",
    "\n",
    "## Fitting the ANN to Training set\n",
    "classifier.fit(x_train, y_train, batch_size=10,epochs=10)\n",
    "\n",
    "## Making prediction and evaluating the model\n",
    "\n",
    "\n",
    "## Predicting the Test set results\n",
    "y_pred = classifier.predict(x_test)\n",
    "y_pred = (y_pred > 0.5)\n",
    "\n",
    "## Making the Confusion matrix\n",
    "from sklearn.metrics import confusion_matrix\n",
    "cm = confusion_matrix(y_test, y_pred)\n",
    "print(cm)\n"
   ]
  },
  {
   "cell_type": "code",
   "execution_count": null,
   "metadata": {},
   "outputs": [],
   "source": []
  },
  {
   "cell_type": "code",
   "execution_count": 50,
   "metadata": {},
   "outputs": [
    {
     "name": "stdout",
     "output_type": "stream",
     "text": [
      "0.7979999959468842\n",
      "[0.80874997 0.80374998 0.80124998 0.79000002 0.79250002 0.815\n",
      " 0.78375    0.79750001 0.79874998 0.78874999]\n",
      "<keras.wrappers.scikit_learn.KerasClassifier object at 0x0000012406929188>\n"
     ]
    }
   ],
   "source": [
    "## Evaluating the ANN (K fold Cross Validation)\n",
    "\n",
    "from keras.wrappers.scikit_learn import KerasClassifier\n",
    "from sklearn.model_selection import cross_val_score\n",
    "from keras.models import Sequential\n",
    "from keras.layers import Dense\n",
    "from keras.layers import Dropout\n",
    "\n",
    "def build_classifier():\n",
    "    ## Adding the input layer and the first hidden layer with Dropout\n",
    "    classifier = Sequential()\n",
    "    classifier.add(Dense(units = 6, kernel_initializer = 'uniform', activation = 'relu', input_dim = 11))\n",
    "    classifier.add(Dropout(p = 0.1))\n",
    "    \n",
    "    classifier.add(Dense(units = 6, kernel_initializer = 'uniform', activation = 'relu'))\n",
    "    classifier.add(Dense(units = 1, kernel_initializer = 'uniform', activation = 'sigmoid'))\n",
    "\n",
    "    ## Compiling ANN\n",
    "    classifier.compile(optimizer='adam', loss = 'binary_crossentropy', metrics= ['accuracy'])\n",
    "    return classifier\n",
    "\n",
    "classifier = KerasClassifier(build_fn=build_classifier, batch_size = 10, nb_epoch = 10)\n",
    "accuracies = cross_val_score(estimator=classifier, X=x_train, y=y_train, cv = 10, n_jobs=-1)\n",
    "mean = accuracies.mean()\n",
    "print(mean)\n",
    "print(accuracies)\n",
    "print(classifier)"
   ]
  },
  {
   "cell_type": "code",
   "execution_count": null,
   "metadata": {},
   "outputs": [],
   "source": []
  },
  {
   "cell_type": "code",
   "execution_count": 54,
   "metadata": {},
   "outputs": [
    {
     "name": "stderr",
     "output_type": "stream",
     "text": [
      "C:\\Anaconda\\lib\\site-packages\\ipykernel_launcher.py:13: UserWarning: Update your `Dropout` call to the Keras 2 API: `Dropout(rate=0.1)`\n",
      "  del sys.path[0]\n"
     ]
    },
    {
     "name": "stdout",
     "output_type": "stream",
     "text": [
      "Epoch 1/1\n",
      "7200/7200 [==============================] - 0s 52us/step - loss: 0.5574 - accuracy: 0.7925\n",
      "Epoch 1/1\n",
      "7200/7200 [==============================] - 0s 54us/step - loss: 0.5619 - accuracy: 0.7961\n",
      "Epoch 1/1\n",
      "7200/7200 [==============================] - 0s 57us/step - loss: 0.5757 - accuracy: 0.7944\n",
      "Epoch 1/1\n",
      "7200/7200 [==============================] - 0s 60us/step - loss: 0.5921 - accuracy: 0.7944\n",
      "Epoch 1/1\n",
      "7200/7200 [==============================] - 0s 52us/step - loss: 0.5612 - accuracy: 0.7935\n",
      "Epoch 1/1\n",
      "7200/7200 [==============================] - 0s 53us/step - loss: 0.6033 - accuracy: 0.7921\n",
      "Epoch 1/1\n",
      "7200/7200 [==============================] - 0s 56us/step - loss: 0.5421 - accuracy: 0.7969\n",
      "Epoch 1/1\n",
      "7200/7200 [==============================] - 0s 54us/step - loss: 0.5525 - accuracy: 0.7947\n",
      "Epoch 1/1\n",
      "7200/7200 [==============================] - 0s 52us/step - loss: 0.5632 - accuracy: 0.7949\n",
      "Epoch 1/1\n",
      "7200/7200 [==============================] - 0s 58us/step - loss: 0.5770 - accuracy: 0.7947\n",
      "Epoch 1/1\n",
      "7200/7200 [==============================] - 0s 48us/step - loss: 0.5790 - accuracy: 0.7933\n",
      "Epoch 1/1\n",
      "7200/7200 [==============================] - 0s 47us/step - loss: 0.5815 - accuracy: 0.7957\n",
      "Epoch 1/1\n",
      "7200/7200 [==============================] - 0s 48us/step - loss: 0.5626 - accuracy: 0.7944\n",
      "Epoch 1/1\n",
      "7200/7200 [==============================] - 0s 46us/step - loss: 0.5513 - accuracy: 0.7962\n",
      "Epoch 1/1\n",
      "7200/7200 [==============================] - 0s 48us/step - loss: 0.5924 - accuracy: 0.7940\n",
      "Epoch 1/1\n",
      "7200/7200 [==============================] - 0s 52us/step - loss: 0.5846 - accuracy: 0.7932\n",
      "Epoch 1/1\n",
      "7200/7200 [==============================] - 0s 52us/step - loss: 0.5562 - accuracy: 0.7962\n",
      "Epoch 1/1\n",
      "7200/7200 [==============================] - 0s 52us/step - loss: 0.5905 - accuracy: 0.7942\n",
      "Epoch 1/1\n",
      "7200/7200 [==============================] - 0s 52us/step - loss: 0.5734 - accuracy: 0.7942\n",
      "Epoch 1/1\n",
      "7200/7200 [==============================] - 0s 50us/step - loss: 0.5873 - accuracy: 0.7960\n",
      "Epoch 1/1\n",
      "7200/7200 [==============================] - 0s 53us/step - loss: 0.6069 - accuracy: 0.7921\n",
      "Epoch 1/1\n",
      "7200/7200 [==============================] - 0s 57us/step - loss: 0.5716 - accuracy: 0.7956\n",
      "Epoch 1/1\n",
      "7200/7200 [==============================] - 0s 60us/step - loss: 0.5755 - accuracy: 0.7936\n",
      "Epoch 1/1\n",
      "7200/7200 [==============================] - 0s 51us/step - loss: 0.5491 - accuracy: 0.7951\n",
      "Epoch 1/1\n",
      "7200/7200 [==============================] - 0s 53us/step - loss: 0.5495 - accuracy: 0.7960\n",
      "Epoch 1/1\n",
      "7200/7200 [==============================] - 0s 52us/step - loss: 0.5603 - accuracy: 0.7932\n",
      "Epoch 1/1\n",
      "7200/7200 [==============================] - 0s 56us/step - loss: 0.5788 - accuracy: 0.7960\n",
      "Epoch 1/1\n",
      "7200/7200 [==============================] - 0s 54us/step - loss: 0.5477 - accuracy: 0.7944\n",
      "Epoch 1/1\n",
      "7200/7200 [==============================] - 0s 57us/step - loss: 0.5639 - accuracy: 0.7932\n",
      "Epoch 1/1\n",
      "7200/7200 [==============================] - 0s 60us/step - loss: 0.5805 - accuracy: 0.7944\n",
      "Epoch 1/1\n",
      "7200/7200 [==============================] - 0s 54us/step - loss: 0.5996 - accuracy: 0.7919\n",
      "Epoch 1/1\n",
      "7200/7200 [==============================] - 0s 53us/step - loss: 0.5856 - accuracy: 0.7968\n",
      "Epoch 1/1\n",
      "7200/7200 [==============================] - 0s 54us/step - loss: 0.5919 - accuracy: 0.7946\n",
      "Epoch 1/1\n",
      "7200/7200 [==============================] - 0s 49us/step - loss: 0.5733 - accuracy: 0.7960\n",
      "Epoch 1/1\n",
      "7200/7200 [==============================] - 0s 52us/step - loss: 0.5769 - accuracy: 0.7954\n",
      "Epoch 1/1\n",
      "7200/7200 [==============================] - 0s 53us/step - loss: 0.6003 - accuracy: 0.7926\n",
      "Epoch 1/1\n",
      "7200/7200 [==============================] - 0s 46us/step - loss: 0.5876 - accuracy: 0.7965\n",
      "Epoch 1/1\n",
      "7200/7200 [==============================] - 0s 50us/step - loss: 0.5650 - accuracy: 0.7949\n",
      "Epoch 1/1\n",
      "7200/7200 [==============================] - 0s 49us/step - loss: 0.5631 - accuracy: 0.7943\n",
      "Epoch 1/1\n",
      "7200/7200 [==============================] - 0s 47us/step - loss: 0.5743 - accuracy: 0.7953\n",
      "Epoch 1/1\n",
      "7200/7200 [==============================] - 0s 43us/step - loss: 0.6189 - accuracy: 0.7933\n",
      "Epoch 1/1\n",
      "7200/7200 [==============================] - 0s 49us/step - loss: 0.5942 - accuracy: 0.7950\n",
      "Epoch 1/1\n",
      "7200/7200 [==============================] - 0s 45us/step - loss: 0.5725 - accuracy: 0.7947\n",
      "Epoch 1/1\n",
      "7200/7200 [==============================] - 0s 45us/step - loss: 0.6122 - accuracy: 0.7940\n",
      "Epoch 1/1\n",
      "7200/7200 [==============================] - 0s 45us/step - loss: 0.5840 - accuracy: 0.7943\n",
      "Epoch 1/1\n",
      "7200/7200 [==============================] - 0s 44us/step - loss: 0.5834 - accuracy: 0.7935\n",
      "Epoch 1/1\n",
      "7200/7200 [==============================] - 0s 47us/step - loss: 0.5920 - accuracy: 0.7960\n",
      "Epoch 1/1\n",
      "7200/7200 [==============================] - 0s 45us/step - loss: 0.5982 - accuracy: 0.7932\n",
      "Epoch 1/1\n",
      "7200/7200 [==============================] - 0s 47us/step - loss: 0.6123 - accuracy: 0.7939\n",
      "Epoch 1/1\n",
      "7200/7200 [==============================] - 0s 47us/step - loss: 0.5978 - accuracy: 0.7942\n",
      "Epoch 1/1\n",
      "7200/7200 [==============================] - 0s 42us/step - loss: 0.6010 - accuracy: 0.7939\n",
      "Epoch 1/1\n",
      "7200/7200 [==============================] - 0s 40us/step - loss: 0.5822 - accuracy: 0.7971\n",
      "Epoch 1/1\n",
      "7200/7200 [==============================] - 0s 40us/step - loss: 0.6297 - accuracy: 0.7935\n",
      "Epoch 1/1\n",
      "7200/7200 [==============================] - 0s 40us/step - loss: 0.6243 - accuracy: 0.7937\n",
      "Epoch 1/1\n",
      "7200/7200 [==============================] - 0s 42us/step - loss: 0.5948 - accuracy: 0.7956\n",
      "Epoch 1/1\n",
      "7200/7200 [==============================] - 0s 43us/step - loss: 0.6006 - accuracy: 0.7939\n",
      "Epoch 1/1\n",
      "7200/7200 [==============================] - 0s 40us/step - loss: 0.6121 - accuracy: 0.7962\n",
      "Epoch 1/1\n",
      "7200/7200 [==============================] - 0s 40us/step - loss: 0.6033 - accuracy: 0.7944\n",
      "Epoch 1/1\n",
      "7200/7200 [==============================] - 0s 40us/step - loss: 0.6228 - accuracy: 0.7926\n",
      "Epoch 1/1\n",
      "7200/7200 [==============================] - 0s 41us/step - loss: 0.5971 - accuracy: 0.7962\n",
      "Epoch 1/1\n",
      "7200/7200 [==============================] - 0s 43us/step - loss: 0.6105 - accuracy: 0.7924\n",
      "Epoch 1/1\n",
      "7200/7200 [==============================] - 0s 43us/step - loss: 0.5704 - accuracy: 0.7971\n",
      "Epoch 1/1\n",
      "7200/7200 [==============================] - 0s 44us/step - loss: 0.6634 - accuracy: 0.7936\n",
      "Epoch 1/1\n",
      "7200/7200 [==============================] - 0s 45us/step - loss: 0.5867 - accuracy: 0.7962\n",
      "Epoch 1/1\n",
      "7200/7200 [==============================] - 0s 43us/step - loss: 0.5955 - accuracy: 0.7947\n",
      "Epoch 1/1\n",
      "7200/7200 [==============================] - 0s 44us/step - loss: 0.6141 - accuracy: 0.7918\n",
      "Epoch 1/1\n",
      "7200/7200 [==============================] - 0s 43us/step - loss: 0.5868 - accuracy: 0.7965\n",
      "Epoch 1/1\n",
      "7200/7200 [==============================] - 0s 45us/step - loss: 0.5845 - accuracy: 0.7932\n",
      "Epoch 1/1\n",
      "7200/7200 [==============================] - 0s 43us/step - loss: 0.5756 - accuracy: 0.7951\n",
      "Epoch 1/1\n",
      "7200/7200 [==============================] - 0s 44us/step - loss: 0.5793 - accuracy: 0.7949\n",
      "Epoch 1/1\n",
      "7200/7200 [==============================] - 0s 41us/step - loss: 0.5926 - accuracy: 0.7940\n",
      "Epoch 1/1\n",
      "7200/7200 [==============================] - 0s 40us/step - loss: 0.6099 - accuracy: 0.7942\n",
      "Epoch 1/1\n",
      "7200/7200 [==============================] - 0s 40us/step - loss: 0.6138 - accuracy: 0.7933\n",
      "Epoch 1/1\n",
      "7200/7200 [==============================] - 0s 40us/step - loss: 0.6260 - accuracy: 0.7950\n",
      "Epoch 1/1\n",
      "7200/7200 [==============================] - 0s 41us/step - loss: 0.6308 - accuracy: 0.7939\n",
      "Epoch 1/1\n",
      "7200/7200 [==============================] - 0s 40us/step - loss: 0.5929 - accuracy: 0.7937\n",
      "Epoch 1/1\n",
      "7200/7200 [==============================] - 0s 41us/step - loss: 0.5924 - accuracy: 0.7961\n",
      "Epoch 1/1\n",
      "7200/7200 [==============================] - 0s 41us/step - loss: 0.5931 - accuracy: 0.7953\n",
      "Epoch 1/1\n",
      "7200/7200 [==============================] - 0s 40us/step - loss: 0.6214 - accuracy: 0.7946\n",
      "Epoch 1/1\n",
      "7200/7200 [==============================] - 0s 39us/step - loss: 0.6277 - accuracy: 0.7936\n",
      "Epoch 1/1\n"
     ]
    },
    {
     "name": "stdout",
     "output_type": "stream",
     "text": [
      "8000/8000 [==============================] - 0s 52us/step - loss: 0.5527 - accuracy: 0.7952\n",
      "{'batch_size': 25, 'nb_epoch': 10, 'optimizer': 'adam'} 0.795625\n"
     ]
    }
   ],
   "source": [
    "## Tuning ANN\n",
    "\n",
    "from keras.wrappers.scikit_learn import KerasClassifier\n",
    "from sklearn.model_selection import GridSearchCV\n",
    "from keras.models import Sequential\n",
    "from keras.layers import Dense\n",
    "from keras.layers import Dropout\n",
    "\n",
    "def build_classifier(optimizer):\n",
    "    ## Adding the input layer and the first hidden layer with Dropout\n",
    "    classifier = Sequential()\n",
    "    classifier.add(Dense(units = 6, kernel_initializer = 'uniform', activation = 'relu', input_dim = 11))\n",
    "    classifier.add(Dropout(p = 0.1))\n",
    "    \n",
    "    classifier.add(Dense(units = 6, kernel_initializer = 'uniform', activation = 'relu'))\n",
    "    classifier.add(Dense(units = 1, kernel_initializer = 'uniform', activation = 'sigmoid'))\n",
    "\n",
    "    ## Compiling ANN\n",
    "    classifier.compile(optimizer=optimizer, loss = 'binary_crossentropy', metrics= ['accuracy'])\n",
    "    return classifier\n",
    "\n",
    "classifier = KerasClassifier(build_fn=build_classifier)\n",
    "parameters = {'batch_size' : [25, 32], 'nb_epoch' : [10, 25], 'optimizer' : ['adam', 'rmsprop']}\n",
    "\n",
    "grid_search = GridSearchCV(estimator=classifier, param_grid = parameters, scoring='accuracy', cv=10)\n",
    "grid_search = grid_search.fit(x_train, y_train)\n",
    "best_parameters = grid_search.best_params_\n",
    "best_accuray = grid_search.best_score_\n",
    "\n",
    "\n",
    "print(best_parameters, best_accuray)\n",
    "\n"
   ]
  },
  {
   "cell_type": "code",
   "execution_count": null,
   "metadata": {},
   "outputs": [],
   "source": []
  }
 ],
 "metadata": {
  "kernelspec": {
   "display_name": "Python 3",
   "language": "python",
   "name": "python3"
  },
  "language_info": {
   "codemirror_mode": {
    "name": "ipython",
    "version": 3
   },
   "file_extension": ".py",
   "mimetype": "text/x-python",
   "name": "python",
   "nbconvert_exporter": "python",
   "pygments_lexer": "ipython3",
   "version": "3.7.6"
  }
 },
 "nbformat": 4,
 "nbformat_minor": 4
}
